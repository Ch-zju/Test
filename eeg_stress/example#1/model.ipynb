{
 "cells": [
  {
   "cell_type": "code",
   "execution_count": 1,
   "metadata": {},
   "outputs": [],
   "source": [
    "import numpy as np\n",
    "import pickle\n",
    "import random\n",
    "import torch\n",
    "import torch.nn as nn\n",
    "import torch.optim as optim\n",
    "\n",
    "from torch.utils.data import DataLoader,Dataset,SequentialSampler,BatchSampler\n"
   ]
  },
  {
   "cell_type": "code",
   "execution_count": 2,
   "metadata": {},
   "outputs": [],
   "source": [
    "fft_class_train='./samples/fft_class_train.pkl'\n",
    "fft_class_test= './samples/fft_class_test.pkl'"
   ]
  },
  {
   "cell_type": "code",
   "execution_count": 3,
   "metadata": {},
   "outputs": [
    {
     "name": "stderr",
     "output_type": "stream",
     "text": [
      "Exception ignored in: <bound method IPythonKernel._clean_thread_parent_frames of <ipykernel.ipkernel.IPythonKernel object at 0x0000025B1F52B490>>\n",
      "Traceback (most recent call last):\n",
      "  File \"c:\\Users\\26413\\.conda\\envs\\py1\\Lib\\site-packages\\ipykernel\\ipkernel.py\", line 770, in _clean_thread_parent_frames\n",
      "    def _clean_thread_parent_frames(\n",
      "\n",
      "KeyboardInterrupt: \n"
     ]
    }
   ],
   "source": [
    "import torch\n",
    "from torch.utils.data import Dataset, DataLoader\n",
    "import pickle\n",
    "\n",
    "class CustomDataset(Dataset):\n",
    "    def __init__(self, file_path):\n",
    "        with open(file_path, 'rb') as f:\n",
    "            self.data = pickle.load(f)\n",
    "\n",
    "    def __len__(self):\n",
    "        return len(self.data)\n",
    "\n",
    "    def __getitem__(self, idx):\n",
    "        features, label = self.data[idx]\n",
    "        features = torch.FloatTensor(features)\n",
    "        label = torch.tensor(label, dtype=torch.float32)\n",
    "        return features, label\n",
    "\n",
    "\n",
    "# Create train and test datasets\n",
    "train_dataset = CustomDataset(fft_class_train)\n",
    "test_dataset = CustomDataset(fft_class_test)\n",
    "\n",
    "# Create train and test loaders\n",
    "batch_size = 32\n",
    "train_loader = DataLoader(train_dataset, batch_size=batch_size, shuffle=True)\n",
    "test_loader = DataLoader(test_dataset, batch_size=batch_size, shuffle=False)\n"
   ]
  },
  {
   "cell_type": "code",
   "execution_count": null,
   "metadata": {},
   "outputs": [
    {
     "name": "stdout",
     "output_type": "stream",
     "text": [
      "Input shape: torch.Size([32, 1000])\n"
     ]
    }
   ],
   "source": [
    "# Assuming you have a DataLoader named train_loader\n",
    "# Access the first batch of data\n",
    "inputs, _ = next(iter(train_loader))\n",
    "\n",
    "# Check the shape of the input tensor\n",
    "print(\"Input shape:\", inputs.shape)\n"
   ]
  },
  {
   "cell_type": "code",
   "execution_count": null,
   "metadata": {},
   "outputs": [],
   "source": [
    "# Define the neural network model\n",
    "class NeuralNetwork(nn.Module):\n",
    "    def __init__(self, input_size):\n",
    "        super(NeuralNetwork, self).__init__()\n",
    "        self.fc1 = nn.Linear(input_size, 64)\n",
    "        self.fc2 = nn.Linear(64, 32)\n",
    "        self.fc3 = nn.Linear(32, 1)  # Output layer for binary classification\n",
    "\n",
    "    def forward(self, x):\n",
    "        x = torch.relu(self.fc1(x))\n",
    "        x = torch.relu(self.fc2(x))\n",
    "        x = torch.sigmoid(self.fc3(x))  # Sigmoid activation for binary classification\n",
    "        return x\n",
    "# Assuming 'inputs' is your training data\n",
    "# Define the input size\n",
    "input_size = inputs.shape[1]\n",
    "\n",
    "# Initialize the model\n",
    "model = NeuralNetwork(input_size)\n",
    "\n",
    "# Define loss function and optimizer\n",
    "criterion = nn.BCELoss()\n",
    "optimizer = optim.Adam(model.parameters(), lr=0.001)\n"
   ]
  },
  {
   "cell_type": "code",
   "execution_count": null,
   "metadata": {},
   "outputs": [
    {
     "name": "stdout",
     "output_type": "stream",
     "text": [
      "Epoch 1/70: Loss: 0.6843\n",
      "Epoch 2/70: Loss: 0.6679\n",
      "Epoch 3/70: Loss: 0.5275\n",
      "Epoch 4/70: Loss: 0.7170\n",
      "Epoch 5/70: Loss: 0.6974\n",
      "Epoch 6/70: Loss: 0.5431\n",
      "Epoch 7/70: Loss: 0.6038\n",
      "Epoch 8/70: Loss: 0.6014\n",
      "Epoch 9/70: Loss: 0.6936\n",
      "Epoch 10/70: Loss: 0.6216\n",
      "Epoch 11/70: Loss: 0.4751\n",
      "Epoch 12/70: Loss: 0.4884\n",
      "Epoch 13/70: Loss: 0.6580\n",
      "Epoch 14/70: Loss: 0.4266\n",
      "Epoch 15/70: Loss: 0.4151\n",
      "Epoch 16/70: Loss: 0.4402\n",
      "Epoch 17/70: Loss: 0.5426\n",
      "Epoch 18/70: Loss: 0.5948\n",
      "Epoch 19/70: Loss: 0.4927\n",
      "Epoch 20/70: Loss: 0.4447\n",
      "Epoch 21/70: Loss: 0.6239\n",
      "Epoch 22/70: Loss: 0.6506\n",
      "Epoch 23/70: Loss: 0.4862\n",
      "Epoch 24/70: Loss: 0.6300\n",
      "Epoch 25/70: Loss: 0.6073\n",
      "Epoch 26/70: Loss: 0.4930\n",
      "Epoch 27/70: Loss: 0.4913\n",
      "Epoch 28/70: Loss: 0.4912\n",
      "Epoch 29/70: Loss: 0.5203\n",
      "Epoch 30/70: Loss: 0.5135\n",
      "Epoch 31/70: Loss: 0.5947\n",
      "Epoch 32/70: Loss: 0.6090\n",
      "Epoch 33/70: Loss: 0.5299\n",
      "Epoch 34/70: Loss: 0.7509\n",
      "Epoch 35/70: Loss: 0.5685\n",
      "Epoch 36/70: Loss: 0.5732\n",
      "Epoch 37/70: Loss: 0.5551\n",
      "Epoch 38/70: Loss: 0.4423\n",
      "Epoch 39/70: Loss: 0.5789\n",
      "Epoch 40/70: Loss: 0.5937\n",
      "Epoch 41/70: Loss: 0.5926\n",
      "Epoch 42/70: Loss: 0.6651\n",
      "Epoch 43/70: Loss: 0.7152\n",
      "Epoch 44/70: Loss: 0.7044\n",
      "Epoch 45/70: Loss: 0.4767\n",
      "Epoch 46/70: Loss: 0.4892\n",
      "Epoch 47/70: Loss: 0.4464\n",
      "Epoch 48/70: Loss: 0.4866\n",
      "Epoch 49/70: Loss: 0.4974\n",
      "Epoch 50/70: Loss: 0.5933\n",
      "Epoch 51/70: Loss: 0.3833\n",
      "Epoch 52/70: Loss: 0.5037\n",
      "Epoch 53/70: Loss: 0.6470\n",
      "Epoch 54/70: Loss: 0.6040\n",
      "Epoch 55/70: Loss: 0.5645\n",
      "Epoch 56/70: Loss: 0.5135\n",
      "Epoch 57/70: Loss: 0.4678\n",
      "Epoch 58/70: Loss: 0.5415\n",
      "Epoch 59/70: Loss: 0.4837\n",
      "Epoch 60/70: Loss: 0.5638\n",
      "Epoch 61/70: Loss: 0.5498\n",
      "Epoch 62/70: Loss: 0.5917\n",
      "Epoch 63/70: Loss: 0.3424\n",
      "Epoch 64/70: Loss: 0.4468\n",
      "Epoch 65/70: Loss: 0.4413\n",
      "Epoch 66/70: Loss: 0.7106\n",
      "Epoch 67/70: Loss: 0.5465\n",
      "Epoch 68/70: Loss: 0.5527\n",
      "Epoch 69/70: Loss: 0.4776\n",
      "Epoch 70/70: Loss: 0.2311\n"
     ]
    }
   ],
   "source": [
    "# Train the model\n",
    "model.train()\n",
    "epochs = 70\n",
    "losses = []\n",
    "for epoch in range(epochs):\n",
    "    for inputs, outputs in train_loader:\n",
    "        y_pred = model.forward(inputs)\n",
    "        # Remove the singleton dimension from y_pred\n",
    "        y_pred = torch.squeeze(y_pred, dim=1)\n",
    "        loss = criterion(y_pred, outputs.float())  # Ensure outputs are float\n",
    "        losses.append(loss.item())\n",
    "        optimizer.zero_grad()\n",
    "        loss.backward()\n",
    "        optimizer.step()\n",
    "\n",
    "    print('Epoch {}/{}: Loss: {:.4f}'.format(epoch + 1, epochs, loss.item()))\n"
   ]
  },
  {
   "cell_type": "code",
   "execution_count": null,
   "metadata": {},
   "outputs": [
    {
     "name": "stdout",
     "output_type": "stream",
     "text": [
      "Test Loss: 1.856090553826846, Average Accuracy: 0.49121231401956167\n"
     ]
    }
   ],
   "source": [
    "# Switch to evaluation mode\n",
    "model.eval()\n",
    "\n",
    "total_accuracy = 0\n",
    "total_loss = 0\n",
    "\n",
    "with torch.no_grad():\n",
    "    for inputs, targets in test_loader:\n",
    "        # Perform forward pass\n",
    "        test_preds = model(inputs)\n",
    "        \n",
    "        # Remove the singleton dimension from the model's output\n",
    "        test_preds = torch.squeeze(test_preds, dim=1)\n",
    "        \n",
    "        # Calculate loss\n",
    "        test_loss = criterion(test_preds, targets.float())  # Ensure targets are float\n",
    "        total_loss += test_loss.item()\n",
    "        \n",
    "        # Apply sigmoid activation to get predicted probabilities\n",
    "        predicted = (test_preds >= 0.5).float()  # Binary classification\n",
    "        \n",
    "        # Calculate accuracy\n",
    "        accuracy = (predicted == targets).float().mean().item()\n",
    "        total_accuracy += accuracy\n",
    "\n",
    "# Calculate average loss\n",
    "avg_loss = total_loss / len(test_loader)\n",
    "\n",
    "# Calculate average accuracy\n",
    "avg_accuracy = total_accuracy / len(test_loader)\n",
    "\n",
    "print(f'Test Loss: {avg_loss}, Average Accuracy: {avg_accuracy}')\n"
   ]
  }
 ],
 "metadata": {
  "kernelspec": {
   "display_name": "Python 3",
   "language": "python",
   "name": "python3"
  },
  "language_info": {
   "codemirror_mode": {
    "name": "ipython",
    "version": 3
   },
   "file_extension": ".py",
   "mimetype": "text/x-python",
   "name": "python",
   "nbconvert_exporter": "python",
   "pygments_lexer": "ipython3",
   "version": "3.11.8"
  }
 },
 "nbformat": 4,
 "nbformat_minor": 2
}
