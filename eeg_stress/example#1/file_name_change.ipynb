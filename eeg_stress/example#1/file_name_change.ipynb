{
 "cells": [
  {
   "cell_type": "code",
   "execution_count": 1,
   "metadata": {},
   "outputs": [
    {
     "name": "stdout",
     "output_type": "stream",
     "text": [
      "86\n"
     ]
    }
   ],
   "source": [
    "import os\n",
    "import shutil\n",
    "\n",
    "# Path to the original folder\n",
    "original_folder = \"./EEG_downsample\"\n",
    "\n",
    "# Path to the new folder\n",
    "new_folder = \"./eeg_data\"\n",
    "\n",
    "# Create the new folder if it doesn't exist\n",
    "if not os.path.exists(new_folder):\n",
    "    os.makedirs(new_folder)\n",
    "\n",
    "# Initialize a counter\n",
    "count = 0\n",
    "\n",
    "# Iterate over the files in the original folder\n",
    "for filename in os.listdir(original_folder):\n",
    "    if filename.endswith(\".mat\"):\n",
    "        # Extract the number part from the filename\n",
    "        number = filename.split(\"_\")[-1].split(\".\")[0]\n",
    "\n",
    "        # Remove leading zeros\n",
    "        number = str(int(number))\n",
    "\n",
    "        # Determine the new name based on the count\n",
    "        new_name = f\"{number}.mat\"\n",
    "\n",
    "        # Copy the file to the new folder with the new name\n",
    "        shutil.copy(os.path.join(original_folder, filename), os.path.join(new_folder, new_name))\n",
    "\n",
    "        # Increment the counter\n",
    "        count += 1\n",
    "\n",
    "print(count)"
   ]
  }
 ],
 "metadata": {
  "kernelspec": {
   "display_name": "py1",
   "language": "python",
   "name": "python3"
  },
  "language_info": {
   "codemirror_mode": {
    "name": "ipython",
    "version": 3
   },
   "file_extension": ".py",
   "mimetype": "text/x-python",
   "name": "python",
   "nbconvert_exporter": "python",
   "pygments_lexer": "ipython3",
   "version": "3.11.8"
  }
 },
 "nbformat": 4,
 "nbformat_minor": 2
}
